{
 "cells": [
  {
   "cell_type": "markdown",
   "id": "87a310cf-1e0e-4223-a78f-ea4bacf42e84",
   "metadata": {},
   "source": [
    "# Exploratory Analysis "
   ]
  },
  {
   "cell_type": "code",
   "execution_count": 1,
   "id": "b9b3e66b-9e0b-4ff2-a70c-81ada288dc65",
   "metadata": {},
   "outputs": [],
   "source": [
    "import pandas as pd"
   ]
  },
  {
   "cell_type": "markdown",
   "id": "cd0aa469-f6f2-4204-90fb-66219411a5d3",
   "metadata": {},
   "source": [
    "# Create Helper Function to Process Data"
   ]
  },
  {
   "cell_type": "code",
   "execution_count": 2,
   "id": "c8ff6d62-659c-41df-ae72-efd9960c2e19",
   "metadata": {},
   "outputs": [],
   "source": [
    "# Import json library to load ejm2.json\n",
    "import json"
   ]
  },
  {
   "cell_type": "code",
   "execution_count": 3,
   "id": "2a40e034-e9a2-4e1d-8f7b-4c3cd170872f",
   "metadata": {},
   "outputs": [],
   "source": [
    "# Cargamos el archivo ejm2.json a la variable 'data' para poder visualizar su contenido\n",
    "# 'r' es para leer (read) \n",
    "with open('ejm2.json', 'r') as f:\n",
    "    data = json.load(f)"
   ]
  },
  {
   "cell_type": "code",
   "execution_count": 4,
   "id": "58f62a10-ffa6-48bb-81e1-b89105a39335",
   "metadata": {},
   "outputs": [],
   "source": [
    "# Valores que obtendremos de value['itemList']\n",
    "nested_values = ['desc', 'author', 'music', 'authorStats', 'stats', 'statsV2', 'video']\n",
    "# Valores que necesitaremos de cada dato de nested_value\n",
    "author_values = ['id', 'nickname', 'uniqueId', 'signature']\n",
    "video_values = ['duration', 'format', 'height']\n",
    "authorStats_values = ['followerCount', 'followingCount', 'heart', 'videoCount']\n",
    "stats_values = ['commentCount', 'playCount']\n",
    "music_values = ['album', 'authorName']      \n",
    "statsV2_values = ['playCount', 'commentCount', 'diggCount']"
   ]
  },
  {
   "cell_type": "code",
   "execution_count": 5,
   "id": "ccf1d9fa-d367-4350-b246-6efe4c75b6ac",
   "metadata": {},
   "outputs": [],
   "source": [
    "# Nuevo diccionario para almacenar datos los keys() que necesitemos que estaran anidados para \n",
    "# Posteriormente extraer los ideales\n",
    "flattened_data = {}\n",
    "# Iteramos en la data desordenada que extrajimos\n",
    "for value in data:\n",
    "    # idx es el indice de la cantidad de busqueda que hicimos con la API de tiktok, esto nos arrojo 30 usuarios\n",
    "    # crt vendrian a ser los valores\n",
    "    # itemList es el key() principal donde esta toda la data que necesitamos\n",
    "    for idx, crt in enumerate(value['itemList']):\n",
    "        # En el diccionario creado anteriormente ordenamos los 30 usuarios que obtuvimos\n",
    "        flattened_data[idx] = {}\n",
    "        # de itemList extraemos toda la data que obtuvimos de la API\n",
    "        for prop_idx, prop_value in crt.items():\n",
    "            # Solo necesitamos datos predeterminados anteriormente en neste_values\n",
    "            if prop_idx in nested_values:\n",
    "                # Rellenamos nuestro diccionario con la data necesitada\n",
    "                flattened_data[idx][prop_idx] = prop_value"
   ]
  },
  {
   "cell_type": "code",
   "execution_count": 9,
   "id": "3d3925bf-9ed7-4e57-8321-32a3c53e3723",
   "metadata": {},
   "outputs": [
    {
     "data": {
      "text/plain": [
       "'Respuesta a @Josué López Donayre ¿Qué te pareció el precio? ¿Lo comprarías? 🥳 #inmobiliaria #realestate #bienesraices #venta #inmuebles #parati #foryoupage #home #inversion #casas '"
      ]
     },
     "execution_count": 9,
     "metadata": {},
     "output_type": "execute_result"
    }
   ],
   "source": [
    "flattened_data[0]['desc']"
   ]
  },
  {
   "cell_type": "code",
   "execution_count": 13,
   "id": "9b3fcfab-1437-48e5-92c9-2c9156057843",
   "metadata": {},
   "outputs": [],
   "source": [
    "# Nuevo diccionario para almacenar los datos filtrados de flattened_data\n",
    "filtered_data = {}\n",
    "# Iterar sobre los datos obtenidos anteriormente\n",
    "for idx, crt in flattened_data.items():\n",
    "    filtered_data[idx] = {}\n",
    "    if 'desc' in crt:\n",
    "        filtered_data[idx]['desc'] = {crt['desc']}\n",
    "    # Extraer valores de 'author'\n",
    "    if 'author' in crt:\n",
    "        filtered_data[idx]['author'] = {key: value for key, value in crt['author'].items() if key in author_values}\n",
    "    # Extraer valores de 'music'\n",
    "    if 'music' in crt:\n",
    "        filtered_data[idx]['music'] = {key: value for key, value in crt['music'].items() if key in music_values}\n",
    "    # Extraer valores de 'authorStats'\n",
    "    if 'authorStats' in crt:\n",
    "        filtered_data[idx]['authorStats'] = {key: value for key, value in crt['authorStats'].items() if key in authorStats_values}\n",
    "    # Extraer valores de 'stats'\n",
    "    if 'stats' in crt:\n",
    "        filtered_data[idx]['stats'] = {key: value for key, value in crt['stats'].items() if key in stats_values}\n",
    "    # Extraer valores de 'statsV2'\n",
    "    if 'statsV2' in crt:\n",
    "        filtered_data[idx]['statsV2'] = {key: value for key, value in crt['statsV2'].items() if key in statsV2_values}\n"
   ]
  },
  {
   "cell_type": "code",
   "execution_count": 40,
   "id": "00bb3f3b-a422-4dc1-84bf-2cdf3999467b",
   "metadata": {},
   "outputs": [],
   "source": [
    "# Nuevo diccionario para almacenar los valores totales con claves modificadas\n",
    "modified_data = {}\n",
    "# Iterar sobre los datos filtrados\n",
    "for idx, crt in filtered_data.items():\n",
    "    modified_data[idx] = {}\n",
    "    # Verificar y modificar los valores de 'author'\n",
    "    if 'author' in crt:\n",
    "        for key, value in crt['author'].items():\n",
    "            modified_data[idx][f'author_{key}'] = value\n",
    "    # Verificar y anadir desc a la data final\n",
    "    if 'desc' in crt:\n",
    "        # crt['desc'] vendria a ser un set, por lo que tenemos que cambiarlo a str \n",
    "        # Por lo que establecemos un delimitador que serian los espacios que hay dentro del set para al final \n",
    "        # poder unirlos y establecer nuestro 'desc' en str\n",
    "        delimiter = ' '\n",
    "        modified_data[idx]['desc'] = delimiter.join(crt['desc'])\n",
    "    # Verificar y modificar los valores de 'music'\n",
    "    if 'music' in crt:\n",
    "        for key, value in crt['music'].items():\n",
    "            modified_data[idx][f'music_{key}'] = value\n",
    "    # Verificar y modificar los valores de 'authorStats'\n",
    "    if 'authorStats' in crt:\n",
    "        for key, value in crt['authorStats'].items():\n",
    "            modified_data[idx][f'authorStats_{key}'] = value\n",
    "    # Verificar y modificar los valores de 'stats'\n",
    "    if 'stats' in crt:\n",
    "        for key, value in crt['stats'].items():\n",
    "            modified_data[idx][f'stats_{key}'] = value\n",
    "    # Verificar y modificar los valores de 'statsV2'\n",
    "    if 'statsV2' in crt:\n",
    "        for key, value in crt['statsV2'].items():\n",
    "            modified_data[idx][f'statsV2_{key}'] = value"
   ]
  },
  {
   "cell_type": "code",
   "execution_count": 41,
   "id": "367f4fed-9a43-474c-bb39-dda61f804624",
   "metadata": {},
   "outputs": [
    {
     "data": {
      "text/plain": [
       "'Respuesta a @Josué López Donayre ¿Qué te pareció el precio? ¿Lo comprarías? 🥳 #inmobiliaria #realestate #bienesraices #venta #inmuebles #parati #foryoupage #home #inversion #casas '"
      ]
     },
     "execution_count": 41,
     "metadata": {},
     "output_type": "execute_result"
    }
   ],
   "source": [
    "modified_data[0]['desc']"
   ]
  },
  {
   "cell_type": "markdown",
   "id": "33f44b6d-9d47-41ce-87bf-70c5941c918c",
   "metadata": {},
   "source": [
    "# Test out Output"
   ]
  },
  {
   "cell_type": "code",
   "execution_count": 42,
   "id": "c79ee7c5-4a04-45e7-8039-6d73919adc4b",
   "metadata": {},
   "outputs": [],
   "source": [
    "df_test = pd.DataFrame.from_dict(modified_data, orient='index')"
   ]
  },
  {
   "cell_type": "code",
   "execution_count": 43,
   "id": "539c05a2-9a52-4a02-9bdd-995c1aee414d",
   "metadata": {},
   "outputs": [
    {
     "data": {
      "text/html": [
       "<div>\n",
       "<style scoped>\n",
       "    .dataframe tbody tr th:only-of-type {\n",
       "        vertical-align: middle;\n",
       "    }\n",
       "\n",
       "    .dataframe tbody tr th {\n",
       "        vertical-align: top;\n",
       "    }\n",
       "\n",
       "    .dataframe thead th {\n",
       "        text-align: right;\n",
       "    }\n",
       "</style>\n",
       "<table border=\"1\" class=\"dataframe\">\n",
       "  <thead>\n",
       "    <tr style=\"text-align: right;\">\n",
       "      <th></th>\n",
       "      <th>author_id</th>\n",
       "      <th>author_nickname</th>\n",
       "      <th>author_signature</th>\n",
       "      <th>author_uniqueId</th>\n",
       "      <th>desc</th>\n",
       "      <th>music_album</th>\n",
       "      <th>music_authorName</th>\n",
       "      <th>authorStats_followerCount</th>\n",
       "      <th>authorStats_followingCount</th>\n",
       "      <th>authorStats_heart</th>\n",
       "      <th>authorStats_videoCount</th>\n",
       "      <th>stats_commentCount</th>\n",
       "      <th>stats_playCount</th>\n",
       "      <th>statsV2_commentCount</th>\n",
       "      <th>statsV2_diggCount</th>\n",
       "      <th>statsV2_playCount</th>\n",
       "    </tr>\n",
       "  </thead>\n",
       "  <tbody>\n",
       "    <tr>\n",
       "      <th>0</th>\n",
       "      <td>6997795733713945606</td>\n",
       "      <td>KysgoInmobiliaria</td>\n",
       "      <td>Somos cómplices en la búsqueda de tu inmueble ...</td>\n",
       "      <td>kysgoinmobiliaria</td>\n",
       "      <td>Respuesta a @Josué López Donayre ¿Qué te parec...</td>\n",
       "      <td>As It Was</td>\n",
       "      <td>Harry Styles</td>\n",
       "      <td>666900</td>\n",
       "      <td>0</td>\n",
       "      <td>7500000</td>\n",
       "      <td>76</td>\n",
       "      <td>21800</td>\n",
       "      <td>31600000</td>\n",
       "      <td>21816</td>\n",
       "      <td>2696556</td>\n",
       "      <td>31572181</td>\n",
       "    </tr>\n",
       "    <tr>\n",
       "      <th>1</th>\n",
       "      <td>6997795733713945606</td>\n",
       "      <td>KysgoInmobiliaria</td>\n",
       "      <td>Somos cómplices en la búsqueda de tu inmueble ...</td>\n",
       "      <td>kysgoinmobiliaria</td>\n",
       "      <td>Respuesta a @Nay😽 ¿Qué les parecio esta hermos...</td>\n",
       "      <td>STAY</td>\n",
       "      <td>The Kid LAROI &amp; Justin Bieber</td>\n",
       "      <td>666900</td>\n",
       "      <td>0</td>\n",
       "      <td>7500000</td>\n",
       "      <td>76</td>\n",
       "      <td>8038</td>\n",
       "      <td>11400000</td>\n",
       "      <td>8038</td>\n",
       "      <td>944605</td>\n",
       "      <td>11444578</td>\n",
       "    </tr>\n",
       "    <tr>\n",
       "      <th>2</th>\n",
       "      <td>6997795733713945606</td>\n",
       "      <td>KysgoInmobiliaria</td>\n",
       "      <td>Somos cómplices en la búsqueda de tu inmueble ...</td>\n",
       "      <td>kysgoinmobiliaria</td>\n",
       "      <td>¿Desde dónde nos escribes?🥰 #inmobiliaria #rea...</td>\n",
       "      <td>STAY</td>\n",
       "      <td>The Kid LAROI &amp; Justin Bieber</td>\n",
       "      <td>666900</td>\n",
       "      <td>0</td>\n",
       "      <td>7500000</td>\n",
       "      <td>76</td>\n",
       "      <td>13800</td>\n",
       "      <td>25900000</td>\n",
       "      <td>13777</td>\n",
       "      <td>801340</td>\n",
       "      <td>25925261</td>\n",
       "    </tr>\n",
       "    <tr>\n",
       "      <th>3</th>\n",
       "      <td>6780406664590296069</td>\n",
       "      <td>Xitlali Pasten</td>\n",
       "      <td>Mexicana 🇲🇽\\nTe comparto educación financiera ...</td>\n",
       "      <td>xitlalipasten</td>\n",
       "      <td>Parte 2 en comentarios 🙌🏻 #emprendimiento #neg...</td>\n",
       "      <td></td>\n",
       "      <td>Xitlali Pasten</td>\n",
       "      <td>224000</td>\n",
       "      <td>276</td>\n",
       "      <td>2500000</td>\n",
       "      <td>168</td>\n",
       "      <td>10900</td>\n",
       "      <td>31600000</td>\n",
       "      <td>10917</td>\n",
       "      <td>767130</td>\n",
       "      <td>31641992</td>\n",
       "    </tr>\n",
       "    <tr>\n",
       "      <th>4</th>\n",
       "      <td>6799819711283807238</td>\n",
       "      <td>SANTIRUBIOV</td>\n",
       "      <td>📍 GDL \\nThe Main Broker. ✔️🏢\\nNos vemos en ins...</td>\n",
       "      <td>santiagorubiov</td>\n",
       "      <td>Sell me this pen. 🖊️  #realestate #ventas #mar...</td>\n",
       "      <td>Hier Encore Sad Vibes Trap</td>\n",
       "      <td>Novia Nisa</td>\n",
       "      <td>42500</td>\n",
       "      <td>100</td>\n",
       "      <td>800900</td>\n",
       "      <td>53</td>\n",
       "      <td>1889</td>\n",
       "      <td>11600000</td>\n",
       "      <td>1889</td>\n",
       "      <td>764236</td>\n",
       "      <td>11606552</td>\n",
       "    </tr>\n",
       "  </tbody>\n",
       "</table>\n",
       "</div>"
      ],
      "text/plain": [
       "             author_id    author_nickname  \\\n",
       "0  6997795733713945606  KysgoInmobiliaria   \n",
       "1  6997795733713945606  KysgoInmobiliaria   \n",
       "2  6997795733713945606  KysgoInmobiliaria   \n",
       "3  6780406664590296069     Xitlali Pasten   \n",
       "4  6799819711283807238        SANTIRUBIOV   \n",
       "\n",
       "                                    author_signature    author_uniqueId  \\\n",
       "0  Somos cómplices en la búsqueda de tu inmueble ...  kysgoinmobiliaria   \n",
       "1  Somos cómplices en la búsqueda de tu inmueble ...  kysgoinmobiliaria   \n",
       "2  Somos cómplices en la búsqueda de tu inmueble ...  kysgoinmobiliaria   \n",
       "3  Mexicana 🇲🇽\\nTe comparto educación financiera ...      xitlalipasten   \n",
       "4  📍 GDL \\nThe Main Broker. ✔️🏢\\nNos vemos en ins...     santiagorubiov   \n",
       "\n",
       "                                                desc  \\\n",
       "0  Respuesta a @Josué López Donayre ¿Qué te parec...   \n",
       "1  Respuesta a @Nay😽 ¿Qué les parecio esta hermos...   \n",
       "2  ¿Desde dónde nos escribes?🥰 #inmobiliaria #rea...   \n",
       "3  Parte 2 en comentarios 🙌🏻 #emprendimiento #neg...   \n",
       "4  Sell me this pen. 🖊️  #realestate #ventas #mar...   \n",
       "\n",
       "                  music_album               music_authorName  \\\n",
       "0                   As It Was                   Harry Styles   \n",
       "1                        STAY  The Kid LAROI & Justin Bieber   \n",
       "2                        STAY  The Kid LAROI & Justin Bieber   \n",
       "3                                             Xitlali Pasten   \n",
       "4  Hier Encore Sad Vibes Trap                     Novia Nisa   \n",
       "\n",
       "   authorStats_followerCount  authorStats_followingCount  authorStats_heart  \\\n",
       "0                     666900                           0            7500000   \n",
       "1                     666900                           0            7500000   \n",
       "2                     666900                           0            7500000   \n",
       "3                     224000                         276            2500000   \n",
       "4                      42500                         100             800900   \n",
       "\n",
       "   authorStats_videoCount  stats_commentCount  stats_playCount  \\\n",
       "0                      76               21800         31600000   \n",
       "1                      76                8038         11400000   \n",
       "2                      76               13800         25900000   \n",
       "3                     168               10900         31600000   \n",
       "4                      53                1889         11600000   \n",
       "\n",
       "  statsV2_commentCount statsV2_diggCount statsV2_playCount  \n",
       "0                21816           2696556          31572181  \n",
       "1                 8038            944605          11444578  \n",
       "2                13777            801340          25925261  \n",
       "3                10917            767130          31641992  \n",
       "4                 1889            764236          11606552  "
      ]
     },
     "execution_count": 43,
     "metadata": {},
     "output_type": "execute_result"
    }
   ],
   "source": [
    "df_test.head()"
   ]
  },
  {
   "cell_type": "code",
   "execution_count": 44,
   "id": "5e2bec1e-b01f-4bf8-9c89-54af2d00aed1",
   "metadata": {},
   "outputs": [],
   "source": [
    "df_test.to_csv('data_inmobiliaria.csv')"
   ]
  },
  {
   "cell_type": "code",
   "execution_count": null,
   "id": "abe86b2f-0868-42a8-92fe-59868f7520e8",
   "metadata": {},
   "outputs": [],
   "source": []
  }
 ],
 "metadata": {
  "kernelspec": {
   "display_name": "tiktokproject",
   "language": "python",
   "name": "tiktokproject"
  },
  "language_info": {
   "codemirror_mode": {
    "name": "ipython",
    "version": 3
   },
   "file_extension": ".py",
   "mimetype": "text/x-python",
   "name": "python",
   "nbconvert_exporter": "python",
   "pygments_lexer": "ipython3",
   "version": "3.12.2"
  }
 },
 "nbformat": 4,
 "nbformat_minor": 5
}
